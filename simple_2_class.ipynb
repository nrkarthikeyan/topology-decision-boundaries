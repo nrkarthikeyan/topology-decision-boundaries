{
 "cells": [
  {
   "cell_type": "markdown",
   "metadata": {},
   "source": [
    "### Analyzes the decision boundary topology of the simple two class data using the plain- and locally-scaled- labeled VR (P-LVR and LS-LVR) complexes"
   ]
  },
  {
   "cell_type": "code",
   "execution_count": 1,
   "metadata": {},
   "outputs": [],
   "source": [
    "# Load packages\n",
    "import sys\n",
    "sys.path.append(\"src\")\n",
    "import sys\n",
    "import numpy as np\n",
    "if 'src' not in sys.path:\n",
    "    sys.path.append(\"src\")\n",
    "n_jobs = 4 #General multi-processing jobs\n",
    "\n",
    "from shapes2D import disk2D, annulus2D\n",
    "from time import time\n",
    "\n",
    "# Import TDA package\n",
    "import TopologicalData"
   ]
  },
  {
   "cell_type": "code",
   "execution_count": 2,
   "metadata": {},
   "outputs": [
    {
     "name": "stdout",
     "output_type": "stream",
     "text": [
      "(600, 2) (600,)\n"
     ]
    }
   ],
   "source": [
    "# Create simple 2-class data\n",
    "r1 = 0.5\n",
    "r2 = 1.0\n",
    "r3 = 2.0\n",
    "ns1 = 200\n",
    "ns2 = 100\n",
    "\n",
    "d1 = disk2D((0,0),r1).samples(ns1)\n",
    "d2 = disk2D((15,15),5*r1).samples(ns1)\n",
    "x1 = np.vstack((d1,d2))\n",
    "y1 = np.ones(x1.shape[0])\n",
    "\n",
    "a1 = annulus2D((0,0),r2,r3).samples(ns2)\n",
    "a2 = annulus2D((15,15),5.0*r2,5.0*r3).samples(ns2)\n",
    "x2 = np.vstack((a1,a2))\n",
    "y2 = -1.0*np.ones(x2.shape[0])\n",
    "\n",
    "x = np.vstack([x1, x2])\n",
    "y = np.hstack([y1, y2])\n",
    "print(x.shape, y.shape)"
   ]
  },
  {
   "cell_type": "code",
   "execution_count": 3,
   "metadata": {},
   "outputs": [
    {
     "data": {
      "text/plain": [
       "<matplotlib.collections.PathCollection at 0x121604d50>"
      ]
     },
     "execution_count": 3,
     "metadata": {},
     "output_type": "execute_result"
    },
    {
     "data": {
      "image/png": "[encoded data removed]",
      "text/plain": [
       "<Figure size 432x288 with 1 Axes>"
      ]
     },
     "metadata": {
      "needs_background": "light"
     },
     "output_type": "display_data"
    }
   ],
   "source": [
    "# plot data\n",
    "import matplotlib.pyplot as plt\n",
    "import matplotlib.collections  as mc\n",
    "%matplotlib inline\n",
    "\n",
    "\n",
    "plt.scatter(x1[:,0], x1[:,1], color = 'b')\n",
    "plt.scatter(x2[:,0], x2[:,1], color = 'r')"
   ]
  },
  {
   "cell_type": "markdown",
   "metadata": {},
   "source": [
    "### Compute P-LVR complexes (with Cython speedup)"
   ]
  },
  {
   "cell_type": "code",
   "execution_count": 4,
   "metadata": {},
   "outputs": [
    {
     "ename": "NameError",
     "evalue": "name 'TopologicalData' is not defined",
     "output_type": "error",
     "traceback": [
      "\u001b[0;31m---------------------------------------------------------------------------\u001b[0m",
      "\u001b[0;31mNameError\u001b[0m                                 Traceback (most recent call last)",
      "\u001b[0;32m<ipython-input-4-dea4daf360b1>\u001b[0m in \u001b[0;36m<module>\u001b[0;34m\u001b[0m\n\u001b[1;32m      4\u001b[0m \u001b[0mk\u001b[0m \u001b[0;34m=\u001b[0m \u001b[0mnp\u001b[0m\u001b[0;34m.\u001b[0m\u001b[0mlinspace\u001b[0m\u001b[0;34m(\u001b[0m\u001b[0;36m0\u001b[0m\u001b[0;34m,\u001b[0m \u001b[0;36m10\u001b[0m\u001b[0;34m,\u001b[0m \u001b[0mnumFilt\u001b[0m\u001b[0;34m)\u001b[0m\u001b[0;34m\u001b[0m\u001b[0;34m\u001b[0m\u001b[0m\n\u001b[1;32m      5\u001b[0m \u001b[0mta\u001b[0m \u001b[0;34m=\u001b[0m \u001b[0mtime\u001b[0m\u001b[0;34m(\u001b[0m\u001b[0;34m)\u001b[0m\u001b[0;34m\u001b[0m\u001b[0;34m\u001b[0m\u001b[0m\n\u001b[0;32m----> 6\u001b[0;31m t = TopologicalData.TopologicalData(x, y, graphtype = \"knn\", scale = k, \n\u001b[0m\u001b[1;32m      7\u001b[0m                                     \u001b[0mk\u001b[0m \u001b[0;34m=\u001b[0m \u001b[0;36m3\u001b[0m\u001b[0;34m,\u001b[0m \u001b[0mshowComplexes\u001b[0m \u001b[0;34m=\u001b[0m \u001b[0;32mFalse\u001b[0m\u001b[0;34m,\u001b[0m \u001b[0msaveComplexes\u001b[0m \u001b[0;34m=\u001b[0m \u001b[0;32mFalse\u001b[0m\u001b[0;34m,\u001b[0m\u001b[0;34m\u001b[0m\u001b[0;34m\u001b[0m\u001b[0m\n\u001b[1;32m      8\u001b[0m                                     \u001b[0muse_cy\u001b[0m \u001b[0;34m=\u001b[0m \u001b[0;32mTrue\u001b[0m\u001b[0;34m,\u001b[0m \u001b[0mN\u001b[0m \u001b[0;34m=\u001b[0m \u001b[0;36m20\u001b[0m\u001b[0;34m,\u001b[0m \u001b[0mexptid\u001b[0m \u001b[0;34m=\u001b[0m \u001b[0;34m\"knn_2cls_cy_N_20\"\u001b[0m\u001b[0;34m,\u001b[0m\u001b[0;34m\u001b[0m\u001b[0;34m\u001b[0m\u001b[0m\n",
      "\u001b[0;31mNameError\u001b[0m: name 'TopologicalData' is not defined"
     ]
    }
   ],
   "source": [
    "## Number of filtrations\n",
    "numFilt = 100 \n",
    "\n",
    "k = np.linspace(0, 10, numFilt)\n",
    "ta = time()\n",
    "t = TopologicalData.TopologicalData(x, y, graphtype = \"knn\", scale = k, \n",
    "                                    k = 3, showComplexes = False, saveComplexes = False,\n",
    "                                    use_cy = True, N = 20, exptid = \"knn_2cls_cy_N_20\",\n",
    "                                    PH_program = \"ripser\", maxdim = 1)\n",
    "print(time()-ta)\n",
    "tb = time()\n",
    "t.run()\n",
    "print(time()-tb)"
   ]
  },
  {
   "cell_type": "markdown",
   "metadata": {},
   "source": [
    "### Compute P-LVR complexes (without Cython speedup) - may take a while to execute"
   ]
  },
  {
   "cell_type": "code",
   "execution_count": null,
   "metadata": {},
   "outputs": [],
   "source": [
    "# Number of filtrations\n",
    "numFilt = 100 \n",
    "\n",
    "k = np.linspace(0, 10, numFilt)\n",
    "ta = time()\n",
    "t = TopologicalData.TopologicalData(x, y, graphtype = \"knn\", scale = k, \n",
    "                                    k = 3, showComplexes = False, saveComplexes = False,\n",
    "                                    use_cy = False, exptid = \"knn_2cls_nocy\",\n",
    "                                    PH_program = \"ripser\", \n",
    "                                    maxdim = 1)\n",
    "print(time()-ta)\n",
    "tb = time()\n",
    "t.run()\n",
    "print(time()-tb)"
   ]
  },
  {
   "cell_type": "markdown",
   "metadata": {},
   "source": [
    "### Compute LS-LVR complexes (with Cython speedup)"
   ]
  },
  {
   "cell_type": "code",
   "execution_count": null,
   "metadata": {},
   "outputs": [],
   "source": [
    "# Number of filtrations\n",
    "numFilt = 100 \n",
    "\n",
    "r = np.linspace(0.5, 1.5, numFilt)\n",
    "ta = time()\n",
    "t = TopologicalData.TopologicalData(x, y, graphtype = \"knn_rho\", scale = r, \n",
    "                                    k = 3, showComplexes = False, saveComplexes = False,\n",
    "                                    use_cy = True, N = 20, exptid = \"knn_rho_2cls_cy_N_20\",\n",
    "                                    PH_program = \"ripser\", \n",
    "                                    maxdim = 1)\n",
    "print(time()-ta)\n",
    "tb = time()\n",
    "t.run()\n",
    "print(time()-tb)"
   ]
  },
  {
   "cell_type": "markdown",
   "metadata": {},
   "source": [
    "### Compute LS-LVR complexes (without Cython speedup) - may take a while to execute"
   ]
  },
  {
   "cell_type": "code",
   "execution_count": null,
   "metadata": {},
   "outputs": [],
   "source": [
    "# Number of filtrations\n",
    "numFilt = 100 \n",
    "\n",
    "r = np.linspace(0.5, 1.5, numFilt)\n",
    "ta = time()\n",
    "t = TopologicalData.TopologicalData(x, y, graphtype = \"knn_rho\", scale = r, \n",
    "                                    k = 3, showComplexes = False, saveComplexes = False,\n",
    "                                    use_cy = False, exptid = \"knn_rho_2cls_nocy\",\n",
    "                                    PH_program = \"ripser\", \n",
    "                                    maxdim = 1)\n",
    "print(time()-ta)\n",
    "tb = time()\n",
    "t.run()\n",
    "print(time()-tb)"
   ]
  },
  {
   "cell_type": "code",
   "execution_count": null,
   "metadata": {},
   "outputs": [],
   "source": []
  }
 ],
 "metadata": {
  "anaconda-cloud": {},
  "kernelspec": {
   "display_name": "Python 3",
   "language": "python",
   "name": "python3"
  },
  "language_info": {
   "codemirror_mode": {
    "name": "ipython",
    "version": 3
   },
   "file_extension": ".py",
   "mimetype": "text/x-python",
   "name": "python",
   "nbconvert_exporter": "python",
   "pygments_lexer": "ipython3",
   "version": "3.7.4"
  }
 },
 "nbformat": 4,
 "nbformat_minor": 1
}
